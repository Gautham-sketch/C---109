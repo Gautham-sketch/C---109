{
  "nbformat": 4,
  "nbformat_minor": 0,
  "metadata": {
    "colab": {
      "name": "Statistics.py",
      "provenance": [],
      "authorship_tag": "ABX9TyOD+dfFJa7DZfYB7LuigiMp",
      "include_colab_link": true
    },
    "kernelspec": {
      "name": "python3",
      "display_name": "Python 3"
    },
    "language_info": {
      "name": "python"
    }
  },
  "cells": [
    {
      "cell_type": "markdown",
      "metadata": {
        "id": "view-in-github",
        "colab_type": "text"
      },
      "source": [
        "<a href=\"https://colab.research.google.com/github/Gautham-sketch/C---109/blob/main/Statistics_py.ipynb\" target=\"_parent\"><img src=\"https://colab.research.google.com/assets/colab-badge.svg\" alt=\"Open In Colab\"/></a>"
      ]
    },
    {
      "cell_type": "code",
      "execution_count": null,
      "metadata": {
        "id": "5k9QYS0soKEs",
        "colab": {
          "base_uri": "https://localhost:8080/"
        },
        "outputId": "353ed146-9ef3-473c-df6b-a756c78570e8"
      },
      "outputs": [
        {
          "output_type": "stream",
          "name": "stdout",
          "text": [
            "97.692 percentage of data lies in the range\n"
          ]
        }
      ],
      "source": [
        "import plotly.figure_factory as ff\n",
        "import random\n",
        "import statistics\n",
        "import pandas as pd\n",
        "\n",
        "reader = pd.read_csv(\"Activity.csv\")\n",
        "data = reader[\"Height(Inches)\"].to_list()\n",
        "\n",
        "mean = statistics.mean(data)\n",
        "median = statistics.median(data)\n",
        "\n",
        "stdev = statistics.stdev(data)\n",
        "\n",
        "num1 = mean - (4*stdev)\n",
        "num2 = mean + (2*stdev)\n",
        "\n",
        "result = []\n",
        "\n",
        "for i in data :\n",
        "  if i > num1 and i < num2:\n",
        "    result.append(i)\n",
        "\n",
        "probablity = len(result)*100/len(data)\n",
        "print(\"{} percentage of data lies in the range\".format(probablity))"
      ]
    }
  ]
}